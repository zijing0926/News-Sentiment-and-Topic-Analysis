{
 "cells": [
  {
   "cell_type": "markdown",
   "metadata": {},
   "source": [
    "## News Sentiment and Topic Analysis"
   ]
  },
  {
   "cell_type": "markdown",
   "metadata": {},
   "source": [
    "#### Question:"
   ]
  },
  {
   "cell_type": "markdown",
   "metadata": {},
   "source": [
    "How can we predict the change in crude oil price with news sentiment and topic analysis?"
   ]
  },
  {
   "cell_type": "markdown",
   "metadata": {},
   "source": [
    "#### Data Source: "
   ]
  },
  {
   "cell_type": "markdown",
   "metadata": {},
   "source": [
    "1 Bloomberg News (including web news collected by Bloomberg);Topic: Crude oil; including WTI"
   ]
  },
  {
   "cell_type": "markdown",
   "metadata": {},
   "source": [
    "2 WTI Crude Oil Future Trade Closing Price: Bloomberg"
   ]
  },
  {
   "cell_type": "markdown",
   "metadata": {},
   "source": [
    "3 Period: 2019-08-26 to 2019-09-01, High Frequency"
   ]
  },
  {
   "cell_type": "markdown",
   "metadata": {},
   "source": [
    "### Part 1: Summary Statistics of News and Price"
   ]
  },
  {
   "cell_type": "code",
   "execution_count": 41,
   "metadata": {},
   "outputs": [
    {
     "name": "stdout",
     "output_type": "stream",
     "text": [
      "259 news collected\n"
     ]
    },
    {
     "data": {
      "text/html": [
       "<div>\n",
       "<style scoped>\n",
       "    .dataframe tbody tr th:only-of-type {\n",
       "        vertical-align: middle;\n",
       "    }\n",
       "\n",
       "    .dataframe tbody tr th {\n",
       "        vertical-align: top;\n",
       "    }\n",
       "\n",
       "    .dataframe thead th {\n",
       "        text-align: right;\n",
       "    }\n",
       "</style>\n",
       "<table border=\"1\" class=\"dataframe\">\n",
       "  <thead>\n",
       "    <tr style=\"text-align: right;\">\n",
       "      <th></th>\n",
       "      <th>Body</th>\n",
       "      <th>Date</th>\n",
       "      <th>year</th>\n",
       "      <th>month</th>\n",
       "      <th>day</th>\n",
       "      <th>hour</th>\n",
       "      <th>minute</th>\n",
       "    </tr>\n",
       "  </thead>\n",
       "  <tbody>\n",
       "    <tr>\n",
       "      <td>6</td>\n",
       "      <td>________________________________    Total Refi...</td>\n",
       "      <td>2019-08-26 06:12:07</td>\n",
       "      <td>2019</td>\n",
       "      <td>8</td>\n",
       "      <td>26</td>\n",
       "      <td>6</td>\n",
       "      <td>12</td>\n",
       "    </tr>\n",
       "    <tr>\n",
       "      <td>7</td>\n",
       "      <td>________________________________    BN 08/29 2...</td>\n",
       "      <td>2019-08-26 06:52:04</td>\n",
       "      <td>2019</td>\n",
       "      <td>8</td>\n",
       "      <td>26</td>\n",
       "      <td>6</td>\n",
       "      <td>52</td>\n",
       "    </tr>\n",
       "    <tr>\n",
       "      <td>8</td>\n",
       "      <td>________________________________    BN 08/29 2...</td>\n",
       "      <td>2019-08-26 07:43:39</td>\n",
       "      <td>2019</td>\n",
       "      <td>8</td>\n",
       "      <td>26</td>\n",
       "      <td>7</td>\n",
       "      <td>43</td>\n",
       "    </tr>\n",
       "    <tr>\n",
       "      <td>9</td>\n",
       "      <td>________________________________    BN 08/29 2...</td>\n",
       "      <td>2019-08-26 09:24:06</td>\n",
       "      <td>2019</td>\n",
       "      <td>8</td>\n",
       "      <td>26</td>\n",
       "      <td>9</td>\n",
       "      <td>24</td>\n",
       "    </tr>\n",
       "    <tr>\n",
       "      <td>10</td>\n",
       "      <td>________________________________    ASIA CRUDE...</td>\n",
       "      <td>2019-08-26 09:57:25</td>\n",
       "      <td>2019</td>\n",
       "      <td>8</td>\n",
       "      <td>26</td>\n",
       "      <td>9</td>\n",
       "      <td>57</td>\n",
       "    </tr>\n",
       "  </tbody>\n",
       "</table>\n",
       "</div>"
      ],
      "text/plain": [
       "                                                 Body                Date  \\\n",
       "6   ________________________________    Total Refi... 2019-08-26 06:12:07   \n",
       "7   ________________________________    BN 08/29 2... 2019-08-26 06:52:04   \n",
       "8   ________________________________    BN 08/29 2... 2019-08-26 07:43:39   \n",
       "9   ________________________________    BN 08/29 2... 2019-08-26 09:24:06   \n",
       "10  ________________________________    ASIA CRUDE... 2019-08-26 09:57:25   \n",
       "\n",
       "    year  month  day  hour  minute  \n",
       "6   2019      8   26     6      12  \n",
       "7   2019      8   26     6      52  \n",
       "8   2019      8   26     7      43  \n",
       "9   2019      8   26     9      24  \n",
       "10  2019      8   26     9      57  "
      ]
     },
     "execution_count": 41,
     "metadata": {},
     "output_type": "execute_result"
    }
   ],
   "source": [
    "import re\n",
    "import pandas as pd\n",
    "import numpy as np\n",
    "\n",
    "##encoding with latin1 for special symbols\n",
    "#news from bloomberg\n",
    "news_bb=pd.read_csv('bb_news.csv',encoding='latin1')\n",
    "##keep only subject and body\n",
    "news_bb=news_bb[['Body']]\n",
    "##get rid of \\n and \\r\n",
    "news_bb['Body'] = news_bb['Body'].str.replace('\\n', ' ')\n",
    "news_bb['Body'] = news_bb['Body'].str.replace('\\r', ' ')\n",
    "##extract date and time for bloomberg news\n",
    "news_bb['Date']=news_bb['Body'].str.extract(r'(\\d{4}-\\d{2}-\\d{2} \\d{2}:\\d{2}:\\d{2}).\\d* GMT')\n",
    "\n",
    "#news from web, web-scraping ahead\n",
    "news_web=pd.read_excel('news_sample.xlsx',usecols='B,D')\n",
    "news_web.columns=['Body','Date']\n",
    "\n",
    "##concat two dataframes\n",
    "frames=[news_bb,news_web]\n",
    "news=pd.concat(frames)\n",
    "\n",
    "##extract date information\n",
    "news['Date'] = pd.to_datetime(news.Date) \n",
    "news['year'] = news['Date'].dt.year \n",
    "news['month'] = news['Date'].dt.month \n",
    "news['day'] = news['Date'].dt.day \n",
    "news['hour'] = news['Date'].dt.hour \n",
    "news['minute'] = news['Date'].dt.minute \n",
    "#keep only 8:26-9:01\n",
    "news=news[(news['month']==8)|(news['month']==9)]\n",
    "news=news[news['day']!=2]\n",
    "news=news[news['day']!=3]\n",
    "news.drop_duplicates(subset=['Body'],keep='first',inplace=True)\n",
    "print('{}'.format(news.shape[0])+' news collected')\n",
    "news.head()"
   ]
  },
  {
   "cell_type": "code",
   "execution_count": 24,
   "metadata": {},
   "outputs": [
    {
     "data": {
      "text/plain": [
       "<matplotlib.axes._subplots.AxesSubplot at 0x2ae96e59688>"
      ]
     },
     "execution_count": 24,
     "metadata": {},
     "output_type": "execute_result"
    },
    {
     "data": {
      "image/png": "[encoded data removed]",
      "text/plain": [
       "<Figure size 432x288 with 1 Axes>"
      ]
     },
     "metadata": {
      "needs_background": "light"
     },
     "output_type": "display_data"
    }
   ],
   "source": [
    "##plot the frequency of news by day and hour\n",
    "news.groupby(['month','day']).count()['Body'].plot(kind='bar')"
   ]
  },
  {
   "cell_type": "code",
   "execution_count": 25,
   "metadata": {},
   "outputs": [
    {
     "data": {
      "text/plain": [
       "<matplotlib.axes._subplots.AxesSubplot at 0x2ae98bb0bc8>"
      ]
     },
     "execution_count": 25,
     "metadata": {},
     "output_type": "execute_result"
    },
    {
     "data": {
      "image/png": "[encoded data removed]",
      "text/plain": [
       "<Figure size 432x288 with 1 Axes>"
      ]
     },
     "metadata": {
      "needs_background": "light"
     },
     "output_type": "display_data"
    }
   ],
   "source": [
    "### plot the frequency of news by day\n",
    "news.groupby(['month','day','hour']).count()['Body'].plot()"
   ]
  },
  {
   "cell_type": "code",
   "execution_count": 27,
   "metadata": {},
   "outputs": [
    {
     "data": {
      "text/plain": [
       "<matplotlib.axes._subplots.AxesSubplot at 0x2ae98c94408>"
      ]
     },
     "execution_count": 27,
     "metadata": {},
     "output_type": "execute_result"
    },
    {
     "data": {
      "image/png": "[encoded data removed]",
      "text/plain": [
       "<Figure size 432x288 with 1 Axes>"
      ]
     },
     "metadata": {
      "needs_background": "light"
     },
     "output_type": "display_data"
    }
   ],
   "source": [
    "#check news frequency throughout a day\n",
    "news['Date'].map(lambda d: d.hour).plot(kind='hist')"
   ]
  },
  {
   "cell_type": "code",
   "execution_count": 67,
   "metadata": {},
   "outputs": [
    {
     "data": {
      "text/plain": [
       "<matplotlib.axes._subplots.AxesSubplot at 0x1c0751a8248>"
      ]
     },
     "execution_count": 67,
     "metadata": {},
     "output_type": "execute_result"
    },
    {
     "data": {
      "image/png": "[encoded data removed]",
      "text/plain": [
       "<Figure size 432x288 with 1 Axes>"
      ]
     },
     "metadata": {
      "needs_background": "light"
     },
     "output_type": "display_data"
    }
   ],
   "source": [
    "%matplotlib inline\n",
    "price=pd.read_excel('price.xlsx',sheet_name='Sheet3')\n",
    "price['Close'].plot()"
   ]
  },
  {
   "cell_type": "code",
   "execution_count": 71,
   "metadata": {},
   "outputs": [
    {
     "data": {
      "text/plain": [
       "<matplotlib.axes._subplots.AxesSubplot at 0x1c06f3b7b48>"
      ]
     },
     "execution_count": 71,
     "metadata": {},
     "output_type": "execute_result"
    },
    {
     "data": {
      "image/png": "[encoded data removed]",
      "text/plain": [
       "<Figure size 432x288 with 1 Axes>"
      ]
     },
     "metadata": {
      "needs_background": "light"
     },
     "output_type": "display_data"
    }
   ],
   "source": [
    "price_diff=price.diff()\n",
    "price_diff['price']=np.where(price_diff.Close>=0,1,0)\n",
    "price_final=price.merge(price_diff,left_index=True,right_index=True,how='inner')\n",
    "###dataframe used to store the information\n",
    "price_final=pd.read_excel('price_final.xlsx')\n",
    "price_final['price'].plot(kind='hist',xticks=[0,1])"
   ]
  },
  {
   "cell_type": "code",
   "execution_count": 15,
   "metadata": {},
   "outputs": [
    {
     "data": {
      "text/html": [
       "<div>\n",
       "<style scoped>\n",
       "    .dataframe tbody tr th:only-of-type {\n",
       "        vertical-align: middle;\n",
       "    }\n",
       "\n",
       "    .dataframe tbody tr th {\n",
       "        vertical-align: top;\n",
       "    }\n",
       "\n",
       "    .dataframe thead th {\n",
       "        text-align: right;\n",
       "    }\n",
       "</style>\n",
       "<table border=\"1\" class=\"dataframe\">\n",
       "  <thead>\n",
       "    <tr style=\"text-align: right;\">\n",
       "      <th></th>\n",
       "      <th>Dates</th>\n",
       "      <th>price</th>\n",
       "      <th>Date</th>\n",
       "      <th>body</th>\n",
       "    </tr>\n",
       "  </thead>\n",
       "  <tbody>\n",
       "    <tr>\n",
       "      <td>0</td>\n",
       "      <td>2019-08-26 00:30:00</td>\n",
       "      <td>1</td>\n",
       "      <td>2019-08-26 00:03:08</td>\n",
       "      <td>jakarta price west texa intermedi wit crude oi...</td>\n",
       "    </tr>\n",
       "    <tr>\n",
       "      <td>1</td>\n",
       "      <td>2019-08-26 04:30:00</td>\n",
       "      <td>0</td>\n",
       "      <td>2019-08-26 04:16:04</td>\n",
       "      <td>var ssd ssd ssd editorialmetadata countri regi...</td>\n",
       "    </tr>\n",
       "    <tr>\n",
       "      <td>2</td>\n",
       "      <td>2019-08-26 06:30:00</td>\n",
       "      <td>0</td>\n",
       "      <td>2019-08-26 06:12:07</td>\n",
       "      <td>total refineri ali trade woe european energi f...</td>\n",
       "    </tr>\n",
       "    <tr>\n",
       "      <td>3</td>\n",
       "      <td>2019-08-26 06:30:00</td>\n",
       "      <td>0</td>\n",
       "      <td>2019-08-26 06:28:40</td>\n",
       "      <td>invest com - oil price monday asia china annou...</td>\n",
       "    </tr>\n",
       "    <tr>\n",
       "      <td>4</td>\n",
       "      <td>2019-08-26 06:30:00</td>\n",
       "      <td>0</td>\n",
       "      <td>2019-08-26 06:05:25</td>\n",
       "      <td>oil price fell end last week china unveil reta...</td>\n",
       "    </tr>\n",
       "  </tbody>\n",
       "</table>\n",
       "</div>"
      ],
      "text/plain": [
       "                Dates  price                Date  \\\n",
       "0 2019-08-26 00:30:00      1 2019-08-26 00:03:08   \n",
       "1 2019-08-26 04:30:00      0 2019-08-26 04:16:04   \n",
       "2 2019-08-26 06:30:00      0 2019-08-26 06:12:07   \n",
       "3 2019-08-26 06:30:00      0 2019-08-26 06:28:40   \n",
       "4 2019-08-26 06:30:00      0 2019-08-26 06:05:25   \n",
       "\n",
       "                                                body  \n",
       "0  jakarta price west texa intermedi wit crude oi...  \n",
       "1  var ssd ssd ssd editorialmetadata countri regi...  \n",
       "2  total refineri ali trade woe european energi f...  \n",
       "3  invest com - oil price monday asia china annou...  \n",
       "4  oil price fell end last week china unveil reta...  "
      ]
     },
     "execution_count": 15,
     "metadata": {},
     "output_type": "execute_result"
    }
   ],
   "source": [
    "#merged news and price into a same dataframe\n",
    "final=pd.read_excel('final.xlsx')\n",
    "final.head()"
   ]
  },
  {
   "cell_type": "markdown",
   "metadata": {},
   "source": [
    "### Part 2: Preprocessing News"
   ]
  },
  {
   "cell_type": "code",
   "execution_count": 68,
   "metadata": {},
   "outputs": [
    {
     "data": {
      "text/plain": [
       "'bn 08 29 21 03 oil climb two-week high u china trade talk hope bn 08 28 21 24 oil ralli peter demand concern counter inventori draw bn 08 27 21 43 oil rise industri data show u crude inventori draw bn 08 26 20 36 oil weaken uncertainti u china trade talk hit oil longest lose run five week trade war deepen 2019-08-26 06 52 04 61 gmt sharon cho bloomberg i- oil fell fourth day set longest run declin five week latest escal trade war blindsid investor worsen already-shaki global demand outlook futur new york drop much 2 2 close 2 1 friday beij said would impos retaliatori tariff anoth 75 billion u good includ oil first time presid donald trump later respond addit tariff increas chines good also call american compani pull asia largest economi deepen trade hostil wrong-foot hedg fund slash bearish bet crude week aug 20 oil ralli 10 low earli august relat u china appear improv start fall last wednesday global trade system total anarchi said howi lee economist oversea-chines bank corp end bloodsh present probabl take lot pull market rabbit hole west texa intermedi crude octob deliveri fell 61 cent 1 1 53 56 barrel new york mercantil exchang 2 46 p singapor much 1 21 earlier contract drop 4 9 sinc last tuesday close brent octob declin 52 cent 0 9 58 82 barrel ice futur europ exchang close 1 lower friday global benchmark crude trade premium 5 26 wit beij impos 5 tariff american crude import sept 1 said friday china top buyer american oil recent middl last year scale back shipment trade war worsen see also tanker drop u oil china levi way two top white hous offici said presid trump author forc american compani leav china although trade expert sure trump cite 1977 law emerg econom power hardlin administr urg invok past two year u firm forc pull china would mean deeper entrench protectionist polici leav global hang thread said cbc lee off-market news iranian oil tanker u sought seiz gibraltar halfway mediterranean sea without declar destin sunday amid specul roughli 2 million-barrel cargo crude board end crude futur declin 1 3 421 6 yuan barrel shanghai intern energi exchang assist jame thornhil contact report stori sharon cho singapor ccho28 bloomberg net contact editor respons stori seren chewong scheong20 bloomberg net andrew jane'"
      ]
     },
     "execution_count": 68,
     "metadata": {},
     "output_type": "execute_result"
    }
   ],
   "source": [
    "import nltk\n",
    "from nltk.stem.porter import PorterStemmer\n",
    "from spellchecker import SpellChecker   \n",
    "from sklearn.feature_extraction.text import CountVectorizer\n",
    "\n",
    "spell = SpellChecker() \n",
    "porter_stemmer = PorterStemmer()\n",
    "\n",
    "###stopwords\n",
    "with open('StopWords_GenericLong.txt', 'r') as f:\n",
    "    x_gl = f.readlines()\n",
    "with open('StopWords_Names.txt', 'r') as f:\n",
    "    x_n = f.readlines()\n",
    "with open('StopWords_DatesandNumbers.txt', 'r') as f:\n",
    "    x_d = f.readlines()\n",
    "with open('StopWords_Geographic.txt', 'r') as f:\n",
    "    x_g = f.readlines()\n",
    "stopwords = nltk.corpus.stopwords.words('english')\n",
    "[stopwords.append(x) for x in x_gl]\n",
    "[stopwords.append(x) for x in x_n]\n",
    "[stopwords.append(x) for x in x_d]\n",
    "[stopwords.append(x) for x in x_g]\n",
    "\n",
    "##define function for spell check, tokenize, stopwords, stem\n",
    "def stemming_tokenizer(str_input):\n",
    "    ##lower case, word tokenize,get rid of unnecessary symbols\n",
    "    words = re.sub(r\"[^A-Za-z0-9\\-]\", \" \", str_input).lower().split()\n",
    "    ##merge hyphenated word by the new line\n",
    "    words= [re.sub(r'-\\n','', word) for word in words]\n",
    "    ##spell check\n",
    "    words = [spell.correction(word) for word in words]\n",
    "    ###get rid of stopword\n",
    "    words = [word for word in words if word not in stopwords]\n",
    "    ##stemming\n",
    "    words = [porter_stemmer.stem(word) for word in words]\n",
    "    return words\n",
    "\n",
    "\n",
    "#news['body_token']=news['Body'].apply(stemming_tokenizer)\n",
    "#news['body'] = news['body_token'].apply(lambda x: ','.join(map(str, x)))\n",
    "#news['body']=news['body'].str.replace(',', ' ')\n",
    "#news.to_excel('news_body.xlsx',index=None)\n",
    "news_body=pd.read_excel('news_body.xlsx')\n",
    "news_body['body'][1]"
   ]
  },
  {
   "cell_type": "markdown",
   "metadata": {},
   "source": [
    "### Part 3: News Sentiment Analysis"
   ]
  },
  {
   "cell_type": "code",
   "execution_count": 17,
   "metadata": {},
   "outputs": [],
   "source": [
    "df=pd.read_excel('final.xlsx')\n",
    "\n",
    "###get rid of all numbers\n",
    "df['body']= df['body'].str.replace(r'\\d', '')\n",
    "\n",
    "###split train and test\n",
    "from sklearn.model_selection import train_test_split\n",
    "\n",
    "# Split data into training and test sets\n",
    "X_train, X_test, y_train, y_test = train_test_split(df['body'], \n",
    "                                                    df['price'], \n",
    "                                                    random_state=0)"
   ]
  },
  {
   "cell_type": "markdown",
   "metadata": {},
   "source": [
    "#### Bag of Words"
   ]
  },
  {
   "cell_type": "code",
   "execution_count": 47,
   "metadata": {},
   "outputs": [
    {
     "name": "stdout",
     "output_type": "stream",
     "text": [
      "Number of Features: 2680\n"
     ]
    }
   ],
   "source": [
    "###bag of words\n",
    "from sklearn.feature_extraction.text import CountVectorizer\n",
    "\n",
    "vect = CountVectorizer(min_df=2,max_df=0.1).fit(X_train)\n",
    "X_train_vectorized = vect.transform(X_train)\n",
    "print('Number of Features: {}'.format(len(vect.get_feature_names())))"
   ]
  },
  {
   "cell_type": "code",
   "execution_count": 33,
   "metadata": {},
   "outputs": [
    {
     "name": "stdout",
     "output_type": "stream",
     "text": [
      "AUC:  0.6539961013645225\n"
     ]
    }
   ],
   "source": [
    "###use logistic regression model to train \n",
    "from sklearn.linear_model import LogisticRegression\n",
    "from sklearn.metrics import roc_auc_score\n",
    "\n",
    "model = LogisticRegression(solver='lbfgs')\n",
    "model.fit(X_train_vectorized, y_train)\n",
    "\n",
    "predictions = model.predict(vect.transform(X_test))\n",
    "\n",
    "print('AUC: ', roc_auc_score(y_test, predictions))"
   ]
  },
  {
   "cell_type": "code",
   "execution_count": 34,
   "metadata": {},
   "outputs": [
    {
     "name": "stdout",
     "output_type": "stream",
     "text": [
      "Smallest Coefs:\n",
      "['yuan' 'rig' 'polit' 'nigeria' 'wingfield' 'pump' 'brian' 'outweigh'\n",
      " 'est' 'build']\n",
      "Largest Coefs: \n",
      "['yesterday' 'treasuri' 'thu' 'respond' 'herron' 'rebound' 'canadian'\n",
      " 'christoph' 'edg' 'resolv']\n"
     ]
    }
   ],
   "source": [
    "feature_names = np.array(vect.get_feature_names())\n",
    "\n",
    "sorted_coef_index = model.coef_[0].argsort()\n",
    "\n",
    "print('Smallest Coefs:\\n{}'.format(feature_names[sorted_coef_index[:10]]))\n",
    "print('Largest Coefs: \\n{}'.format(feature_names[sorted_coef_index[:-11:-1]]))"
   ]
  },
  {
   "cell_type": "markdown",
   "metadata": {},
   "source": [
    "#### Bag of Words with ngrams"
   ]
  },
  {
   "cell_type": "code",
   "execution_count": 60,
   "metadata": {},
   "outputs": [
    {
     "name": "stdout",
     "output_type": "stream",
     "text": [
      "Number of Features: 3001\n",
      "AUC:  0.6647173489278753\n",
      "Smallest Coefs:\n",
      "['yuan' 'support level' 'est' 'rig' 'oil ga' 'ab' 'job' 'spend' 'pump'\n",
      " 'brian']\n",
      "Largest Coefs: \n",
      "['oh' 'thu' 'yesterday' 'us per' 'us per barrel' 'resolv' 'treasuri'\n",
      " 'trade session' 'plant' 'wit oil']\n"
     ]
    }
   ],
   "source": [
    "vect = CountVectorizer(min_df=5,max_df=0.1,ngram_range=(1,3)).fit(X_train)\n",
    "X_train_vectorized = vect.transform(X_train)\n",
    "#adding bigrams can increase the number of features by a lot\n",
    "print('Number of Features: {}'.format(len(vect.get_feature_names())))\n",
    "      \n",
    "model = LogisticRegression(solver='lbfgs')\n",
    "model.fit(X_train_vectorized, y_train)\n",
    "\n",
    "predictions = model.predict(vect.transform(X_test))\n",
    "\n",
    "print('AUC: ', roc_auc_score(y_test, predictions))\n",
    "\n",
    "feature_names = np.array(vect.get_feature_names())\n",
    "\n",
    "sorted_coef_index = model.coef_[0].argsort()\n",
    "\n",
    "print('Smallest Coefs:\\n{}'.format(feature_names[sorted_coef_index[:10]]))\n",
    "print('Largest Coefs: \\n{}'.format(feature_names[sorted_coef_index[:-11:-1]]))"
   ]
  },
  {
   "cell_type": "markdown",
   "metadata": {},
   "source": [
    "#### TFIDF"
   ]
  },
  {
   "cell_type": "code",
   "execution_count": 52,
   "metadata": {},
   "outputs": [
    {
     "name": "stdout",
     "output_type": "stream",
     "text": [
      "Number of Features: 1120\n",
      "AUC:  0.5531189083820662\n",
      "Smallest Coefs:\n",
      "['rig' 'yuan' 'earn' 'summer' 'etc' 'hedg' 'free' 'front' 'et'\n",
      " 'manufactur']\n",
      "Largest Coefs: \n",
      "['canadian' 'yesterday' 'rohan' 'cer' 'neb' 'herron' 'regul' 'forex'\n",
      " 'process' 'snapshot']\n"
     ]
    }
   ],
   "source": [
    "from sklearn.feature_extraction.text import TfidfVectorizer\n",
    "vect = TfidfVectorizer(min_df=5,max_df=0.1).fit(X_train)\n",
    "print('Number of Features: {}'.format(len(vect.get_feature_names())))\n",
    "\n",
    "X_train_vectorized = vect.transform(X_train)\n",
    "\n",
    "model = LogisticRegression(solver='lbfgs')\n",
    "model.fit(X_train_vectorized, y_train)\n",
    "\n",
    "predictions = model.predict(vect.transform(X_test))\n",
    "\n",
    "print('AUC: ', roc_auc_score(y_test, predictions))\n",
    "\n",
    "###find out the words that contributes to price increase or decrease\n",
    "feature_names = np.array(vect.get_feature_names())\n",
    "\n",
    "# Sort the coefficients from the model\n",
    "sorted_coef_index = model.coef_[0].argsort()\n",
    "\n",
    "# Find the 10 smallest and 10 largest coefficients\n",
    "print('Smallest Coefs:\\n{}'.format(feature_names[sorted_coef_index[:10]]))\n",
    "print('Largest Coefs: \\n{}'.format(feature_names[sorted_coef_index[:-11:-1]]))"
   ]
  },
  {
   "cell_type": "markdown",
   "metadata": {},
   "source": [
    "### Part 4: Future Work--News Topic Analysis"
   ]
  },
  {
   "cell_type": "code",
   "execution_count": 56,
   "metadata": {},
   "outputs": [
    {
     "data": {
      "text/plain": [
       "[(0,\n",
       "  '0.075*\"canadian\" + 0.041*\"pipelin\" + 0.039*\"canada\" + 0.021*\"cush\" + 0.021*\"refineri\" + 0.020*\"regul\" + 0.015*\"risk\" + 0.014*\"mid\" + 0.013*\"sourc\" + 0.011*\"spot\"'),\n",
       " (1,\n",
       "  '0.060*\"percent\" + 0.046*\"index\" + 0.046*\"et\" + 0.024*\"free\" + 0.018*\"point\" + 0.014*\"account\" + 0.012*\"creat\" + 0.007*\"yield\" + 0.007*\"schedul\" + 0.006*\"broker\"'),\n",
       " (2,\n",
       "  '0.015*\"public\" + 0.014*\"dubai\" + 0.013*\"meanwhil\" + 0.013*\"lost\" + 0.002*\"bbl\" + 0.002*\"front\" + 0.002*\"agreement\" + 0.002*\"yesterday\" + 0.002*\"place\" + 0.002*\"believ\"'),\n",
       " (3,\n",
       "  '0.007*\"dollar\" + 0.007*\"bpd\" + 0.007*\"ga\" + 0.006*\"good\" + 0.006*\"percent\" + 0.006*\"posit\" + 0.006*\"read\" + 0.006*\"billion\" + 0.005*\"index\" + 0.005*\"rate\"'),\n",
       " (4,\n",
       "  '0.040*\"bbl\" + 0.031*\"marino\" + 0.020*\"content\" + 0.018*\"david\" + 0.018*\"half\" + 0.016*\"mm\" + 0.016*\"summer\" + 0.014*\"survey\" + 0.012*\"bullish\" + 0.010*\"et\"'),\n",
       " (5,\n",
       "  '0.012*\"money\" + 0.011*\"tabl\" + 0.011*\"washington\" + 0.010*\"manag\" + 0.010*\"posit\" + 0.007*\"select\" + 0.007*\"gold\" + 0.007*\"natur\" + 0.006*\"schedul\" + 0.006*\"sourc\"'),\n",
       " (6,\n",
       "  '0.018*\"visit\" + 0.017*\"saudi\" + 0.017*\"copyright\" + 0.010*\"fallen\" + 0.009*\"vs\" + 0.009*\"sale\" + 0.009*\"ahead\" + 0.009*\"share\" + 0.002*\"api\" + 0.002*\"agre\"'),\n",
       " (7,\n",
       "  '0.054*\"hurrican\" + 0.035*\"florida\" + 0.034*\"dorian\" + 0.027*\"storm\" + 0.021*\"mexico\" + 0.020*\"gulf\" + 0.017*\"thursday\" + 0.017*\"coast\" + 0.014*\"lowest\" + 0.013*\"cush\"'),\n",
       " (8,\n",
       "  '0.028*\"bbl\" + 0.027*\"bn\" + 0.023*\"oct\" + 0.018*\"nynex\" + 0.014*\"sept\" + 0.014*\"cargo\" + 0.013*\"plan\" + 0.013*\"marino\" + 0.012*\"yield\" + 0.012*\"spread\"'),\n",
       " (9,\n",
       "  '0.040*\"copyright\" + 0.033*\"ltd\" + 0.029*\"limit\" + 0.027*\"share\" + 0.026*\"pm\" + 0.002*\"driven\" + 0.002*\"slow\" + 0.002*\"grow\" + 0.002*\"point\" + 0.002*\"delay\"')]"
      ]
     },
     "execution_count": 56,
     "metadata": {},
     "output_type": "execute_result"
    }
   ],
   "source": [
    "import gensim\n",
    "from sklearn.feature_extraction.text import TfidfVectorizer\n",
    "\n",
    "# Load the list of documents\n",
    "docs=df['body']\n",
    "# remove tokens that don't appear in at least 20 documents,\n",
    "# remove tokens that appear in more than 20% of the documents\n",
    "vect = TfidfVectorizer(min_df=20, max_df=0.2)\n",
    "#fit and transform documents to tfidf vectorizer\n",
    "X = vect.fit_transform(docs)\n",
    "\n",
    "# Convert sparse matrix to gensim corpus.\n",
    "corpus = gensim.matutils.Sparse2Corpus(X, documents_columns=False)\n",
    "\n",
    "# Mapping from word IDs to words (To be used in LdaModel's id2word parameter)\n",
    "id_map = dict((v, k) for k, v in vect.vocabulary_.items())\n",
    "\n",
    "# Use the gensim.models.ldamodel.LdaModel constructor to estimate \n",
    "# LDA model parameters on the corpus, and save to the variable `ldamodel`\n",
    "ldamodel = gensim.models.ldamodel.LdaModel(corpus,num_topics=10,id2word=id_map,passes=25,random_state=34)\n",
    "\n",
    "def lda_topics():\n",
    "    \n",
    "    # Your Code Here\n",
    "    lis=ldamodel.show_topics(num_topics=10,num_words=10)\n",
    "    \n",
    "    return lis \n",
    "lda_topics()"
   ]
  },
  {
   "cell_type": "code",
   "execution_count": null,
   "metadata": {},
   "outputs": [],
   "source": []
  }
 ],
 "metadata": {
  "kernelspec": {
   "display_name": "Python 3",
   "language": "python",
   "name": "python3"
  },
  "language_info": {
   "codemirror_mode": {
    "name": "ipython",
    "version": 3
   },
   "file_extension": ".py",
   "mimetype": "text/x-python",
   "name": "python",
   "nbconvert_exporter": "python",
   "pygments_lexer": "ipython3",
   "version": "3.7.4"
  }
 },
 "nbformat": 4,
 "nbformat_minor": 2
}
